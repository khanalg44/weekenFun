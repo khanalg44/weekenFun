{
 "cells": [
  {
   "cell_type": "markdown",
   "metadata": {},
   "source": [
    "# Dynamic programming \n",
    "I am following the note from <a href=https://blog.pramp.com/how-to-solve-any-dynamic-programming-problem-603b6fbbd771>PRAMP BLOG</a>.\n",
    "**The FAST method** comprises 4 steps: Find the First solution, Analyze the solution, identify the Subproblems, and Turn around the solution. \n",
    "\n",
    "Let's try the Fibonacci number series.\n",
    "\n",
    "### 1. **Find the first solution**"
   ]
  },
  {
   "cell_type": "code",
   "execution_count": 1,
   "metadata": {},
   "outputs": [],
   "source": [
    "def Fib(n):\n",
    "    if n==0 or n==1:\n",
    "        return n\n",
    "    else:\n",
    "        return Fib(n-1)+Fib(n-2)"
   ]
  },
  {
   "cell_type": "code",
   "execution_count": 6,
   "metadata": {},
   "outputs": [
    {
     "name": "stdout",
     "output_type": "stream",
     "text": [
      "0 0\n",
      "1 1\n",
      "2 1\n",
      "3 2\n",
      "4 3\n"
     ]
    }
   ],
   "source": [
    "for i in range(5):\n",
    "    print (i, Fib(i))"
   ]
  },
  {
   "cell_type": "markdown",
   "metadata": {},
   "source": [
    "### 2. **Analyze the solution**\n",
    "\n",
    "If we look at the time complexity of our **Fib()** function, we find that our solution will take **O(2^n)** time. Each recursive call subtracts 1 from n and results in two child calls. Therefore the depth of our recursion is n and each level has twice as many calls.\n",
    "\n",
    "``\n",
    "1 + 2 + 4 + … + 2^n-1 = 2⁰ + 2¹ + 2² + … + 2^n-1 = O(2^n).\n",
    "``\n",
    "\n",
    "To optimize a problem using dynamic programming, it must have optimal substructure and overlapping subproblems. Does our problem have those? It definitely has an optimal substructure because we can get the right answer just by combining the results of the subproblems.\n",
    "\n",
    "It also has overlapping subproblems. If you call fib(5), that will recursively call fib(4) and fib(3). fib(4) then recursively calls fib(3) and fib(2). It’s clear that fib(3) is being called multiple times during the execution of fib(5) and therefore we have at least one overlapping subproblem.\n",
    "With these characteristics we know we can use dynamic programming.\n",
    "\n",
    "\n",
    "### 3. **Identify the Subproblems**\n"
   ]
  },
  {
   "cell_type": "code",
   "execution_count": 19,
   "metadata": {},
   "outputs": [
    {
     "name": "stdout",
     "output_type": "stream",
     "text": [
      "0 0\n",
      "1 1\n",
      "2 1\n",
      "3 2\n",
      "4 3\n",
      "5 5\n",
      "6 8\n",
      "7 13\n",
      "8 21\n",
      "9 34\n"
     ]
    }
   ],
   "source": [
    "import numpy as np\n",
    "def Fib2(n):\n",
    "    if n<2:\n",
    "        return n\n",
    "    cache=-1*np.ones(n+1, dtype=int)\n",
    "    cache[0]=0;\n",
    "    cache[1]=1;\n",
    "    \n",
    "    def Fib_(n, cache):\n",
    "        if cache[n] >=0:\n",
    "            return cache[n]        \n",
    "        else:\n",
    "            return Fib_(n-1, cache)+Fib_(n-2, cache)    \n",
    "    \n",
    "    return Fib_(n, cache)\n",
    "\n",
    "for i in range(10):\n",
    "    print (i, Fib2(i))\n",
    "\n"
   ]
  },
  {
   "cell_type": "markdown",
   "metadata": {},
   "source": [
    "## 4. Turn around the solution"
   ]
  },
  {
   "cell_type": "code",
   "execution_count": 27,
   "metadata": {},
   "outputs": [
    {
     "name": "stdout",
     "output_type": "stream",
     "text": [
      "0 0\n",
      "1 1\n",
      "2 0\n",
      "3 0\n",
      "4 0\n",
      "5 0\n",
      "6 0\n",
      "7 0\n",
      "8 0\n",
      "9 0\n"
     ]
    }
   ],
   "source": [
    "def Fib4(n):\n",
    "    if n==0:\n",
    "        return 0\n",
    "    #cache = np.ones(n+1, dtype=int)\n",
    "    cache = np.zeros(n+1, dtype=int)\n",
    "    cache[1]=1;\n",
    "    \n",
    "    for i in range(2,n):\n",
    "        cache[i] = cache[i-1]+cache[i-2];\n",
    "    return cache[n]\n",
    "\n",
    "for j in range(10):\n",
    "    \n",
    "    print (j, Fib4(j) )"
   ]
  },
  {
   "cell_type": "code",
   "execution_count": null,
   "metadata": {},
   "outputs": [],
   "source": []
  }
 ],
 "metadata": {
  "kernelspec": {
   "display_name": "Python 3",
   "language": "python",
   "name": "python3"
  },
  "language_info": {
   "codemirror_mode": {
    "name": "ipython",
    "version": 3
   },
   "file_extension": ".py",
   "mimetype": "text/x-python",
   "name": "python",
   "nbconvert_exporter": "python",
   "pygments_lexer": "ipython3",
   "version": "3.7.5"
  }
 },
 "nbformat": 4,
 "nbformat_minor": 2
}
