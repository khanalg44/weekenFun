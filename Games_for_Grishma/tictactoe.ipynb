{
 "cells": [
  {
   "cell_type": "code",
   "execution_count": null,
   "metadata": {},
   "outputs": [],
   "source": []
  },
  {
   "cell_type": "code",
   "execution_count": null,
   "metadata": {},
   "outputs": [],
   "source": []
  },
  {
   "cell_type": "markdown",
   "metadata": {},
   "source": [
    "## Source\n",
    "https://www.geeksforgeeks.org/tic-tac-toe-game-with-gui-using-tkinter-in-python/"
   ]
  },
  {
   "cell_type": "code",
   "execution_count": 3,
   "metadata": {},
   "outputs": [
    {
     "ename": "ModuleNotFoundError",
     "evalue": "No module named '_tkinter'",
     "output_type": "error",
     "traceback": [
      "\u001b[0;31m---------------------------------------------------------------------------\u001b[0m",
      "\u001b[0;31mModuleNotFoundError\u001b[0m                       Traceback (most recent call last)",
      "\u001b[0;32m<ipython-input-3-94cbfbd1a4fb>\u001b[0m in \u001b[0;36m<module>\u001b[0;34m\u001b[0m\n\u001b[1;32m      1\u001b[0m \u001b[0;31m#importing Packages from tkinter\u001b[0m\u001b[0;34m\u001b[0m\u001b[0;34m\u001b[0m\u001b[0m\n\u001b[0;32m----> 2\u001b[0;31m \u001b[0;32mfrom\u001b[0m \u001b[0mtkinter\u001b[0m \u001b[0;32mimport\u001b[0m \u001b[0;34m*\u001b[0m\u001b[0;34m\u001b[0m\u001b[0;34m\u001b[0m\u001b[0m\n\u001b[0m\u001b[1;32m      3\u001b[0m \u001b[0;32mfrom\u001b[0m \u001b[0mtkinter\u001b[0m \u001b[0;32mimport\u001b[0m \u001b[0mmessagebox\u001b[0m\u001b[0;34m\u001b[0m\u001b[0;34m\u001b[0m\u001b[0m\n\u001b[1;32m      4\u001b[0m \u001b[0;34m\u001b[0m\u001b[0m\n\u001b[1;32m      5\u001b[0m \u001b[0mPlayer1\u001b[0m \u001b[0;34m=\u001b[0m \u001b[0;34m'X'\u001b[0m\u001b[0;34m\u001b[0m\u001b[0;34m\u001b[0m\u001b[0m\n",
      "\u001b[0;32m/usr/local/Cellar/python@3.9/3.9.10/Frameworks/Python.framework/Versions/3.9/lib/python3.9/tkinter/__init__.py\u001b[0m in \u001b[0;36m<module>\u001b[0;34m\u001b[0m\n\u001b[1;32m     35\u001b[0m \u001b[0;32mimport\u001b[0m \u001b[0mtypes\u001b[0m\u001b[0;34m\u001b[0m\u001b[0;34m\u001b[0m\u001b[0m\n\u001b[1;32m     36\u001b[0m \u001b[0;34m\u001b[0m\u001b[0m\n\u001b[0;32m---> 37\u001b[0;31m \u001b[0;32mimport\u001b[0m \u001b[0m_tkinter\u001b[0m \u001b[0;31m# If this fails your Python may not be configured for Tk\u001b[0m\u001b[0;34m\u001b[0m\u001b[0;34m\u001b[0m\u001b[0m\n\u001b[0m\u001b[1;32m     38\u001b[0m \u001b[0mTclError\u001b[0m \u001b[0;34m=\u001b[0m \u001b[0m_tkinter\u001b[0m\u001b[0;34m.\u001b[0m\u001b[0mTclError\u001b[0m\u001b[0;34m\u001b[0m\u001b[0;34m\u001b[0m\u001b[0m\n\u001b[1;32m     39\u001b[0m \u001b[0;32mfrom\u001b[0m \u001b[0mtkinter\u001b[0m\u001b[0;34m.\u001b[0m\u001b[0mconstants\u001b[0m \u001b[0;32mimport\u001b[0m \u001b[0;34m*\u001b[0m\u001b[0;34m\u001b[0m\u001b[0;34m\u001b[0m\u001b[0m\n",
      "\u001b[0;31mModuleNotFoundError\u001b[0m: No module named '_tkinter'"
     ]
    }
   ],
   "source": [
    "#importing Packages from tkinter\n",
    "from tkinter import *\n",
    "from tkinter import messagebox \n",
    "\n",
    "Player1 = 'X'\n",
    "stop_game = False\n",
    "\n",
    "def clicked(r,c):\n",
    "\t\n",
    "\t#player\n",
    "\tglobal Player1\n",
    "\t# global stop_game\n",
    "\n",
    "\tif Player1 == \"X\" and states[r] == 0 and stop_game == False:\n",
    "\t\tb[r].configure(text = \"X\")\n",
    "\t\tstates[r] = 'X'\n",
    "\t\tPlayer1='O'\n",
    "\n",
    "\t\n",
    "\tif Player1 == 'O' and states[r] == 0 and stop_game == False:\n",
    "\t\tb[r].configure(text = 'O')\n",
    "\t\tstates[r] = \"O\"\n",
    "\t\tPlayer1 = \"X\"\n",
    "\n",
    "\tcheck_if_win()\n",
    "\t# check_if_tie()\n",
    "\t# if check_if_win() == False:\n",
    "\t#\t tie = messagebox.showinfo(\"tie\",\"its tie\")\n",
    "\t#\t return tie\n",
    "def check_if_win():\n",
    "\tglobal stop_game\n",
    "\t# count = 0\n",
    "\n",
    "\tfor i in range(3):\n",
    "\t\tif states[i][0] == states[i][1] == states[i][2] !=0:\n",
    "\t\t\tstop_game = True\n",
    "\n",
    "\t\t\twinner = messagebox.showinfo(\"Winner\", states[i][0] + \" Won\")\n",
    "\t\t\t# disableAllButton()\n",
    "\t\t\tbreak\n",
    "\n",
    "\t# for j in range(3):\n",
    "\t\telif states [0][i] == states[1][i] == states[2][i] != 0:\n",
    "\t\t\tstop_game = True\n",
    "\n",
    "\t\t\twinner = messagebox.showinfo(\"Winner\", states[0][i]+ \" Won!\")\n",
    "\t\t\tbreak\n",
    "\n",
    "\t\telif states[0][0] == states[1][1] == states[2][2] !=0:\n",
    "\t\t\tstop_game = True\n",
    "\n",
    "\t\t\twinner = messagebox.showinfo(\"Winner\", states[0][0]+ \" Won!\")\n",
    "\t\t\tbreak\n",
    "\n",
    "\t\telif states[0][2] == states[1][1] == states[2][0] !=0:\n",
    "\t\t\tstop_game = True\n",
    "\n",
    "\t\t\twinner = messagebox.showinfo(\"Winner\" , states[0][2]+ \" Won!\")\n",
    "\t\t\tbreak\n",
    "\n",
    "\t\telif states[0][0] and states[0][1] and states[0][2] and states[1][0] and states[1][1] and states[1][2] and states[2][0] and states[2][1] and states[2][2] != 0:\n",
    "\t\t\tstop_game = True\n",
    "\n",
    "\t\t\twinner = messagebox.showinfo(\"tie\", \"Tie\")\n",
    "\n",
    "# Design window\n",
    "#Creating the Canvas \n",
    "root = Tk()\n",
    "# Title of the window\t\t\t \n",
    "root.title(\"GeeksForGeeks-:Tic Tac Toe\") \n",
    "root.resizable(0,0)\n",
    "\n",
    "#Button\n",
    "b = [\n",
    "\t[0,0,0],\n",
    "\t[0,0,0],\n",
    "\t[0,0,0]]\n",
    "\n",
    "#text for buttons\n",
    "states = [\n",
    "\t[0,0,0],\n",
    "\t[0,0,0],\n",
    "\t[0,0,0]]\n",
    "\n",
    "for i in range(3):\n",
    "\tfor j in range(3): \n",
    "\t\t\t\t\t\t\t\t\t\t\n",
    "\t\tb[i][j] = Button(\n",
    "\t\t\t\t\t\theight = 4, width = 8, \n",
    "\t\t\t\t\t\tfont = (\"Helvetica\",\"20\"), \n",
    "\t\t\t\t\t\tcommand = lambda r = i, c = j : clicked(r,c))\n",
    "\t\tb[i][j].grid(row = i, column = j)\n",
    "\n",
    "\n",
    "mainloop()\t\t \n"
   ]
  },
  {
   "cell_type": "code",
   "execution_count": null,
   "metadata": {},
   "outputs": [],
   "source": []
  },
  {
   "cell_type": "code",
   "execution_count": null,
   "metadata": {},
   "outputs": [],
   "source": []
  }
 ],
 "metadata": {
  "kernelspec": {
   "display_name": "Python 3",
   "language": "python",
   "name": "python3"
  },
  "language_info": {
   "codemirror_mode": {
    "name": "ipython",
    "version": 3
   },
   "file_extension": ".py",
   "mimetype": "text/x-python",
   "name": "python",
   "nbconvert_exporter": "python",
   "pygments_lexer": "ipython3",
   "version": "3.9.10"
  }
 },
 "nbformat": 4,
 "nbformat_minor": 2
}
