{
 "cells": [
  {
   "cell_type": "markdown",
   "metadata": {},
   "source": [
    "# Linked List\n"
   ]
  },
  {
   "cell_type": "code",
   "execution_count": 24,
   "metadata": {},
   "outputs": [],
   "source": [
    "class LinkedList(object):\n",
    "    \n",
    "    def __init__(self, head=None):\n",
    "        self.head=head\n",
    "    \n",
    "    def append(self, new_element):\n",
    "        # append new_element to the linked list\n",
    "        current = self.head\n",
    "        if self.head:\n",
    "            while current.next:\n",
    "                current = current.next\n",
    "            current.next = new_element\n",
    "        else:\n",
    "            self.head = new_element\n",
    "                \n",
    "    def get_element(self, pos):\n",
    "        # Get the element of the given position pos\n",
    "        current = self.head\n",
    "        c =1 # start a counter\n",
    "        if self.head:\n",
    "            while c< pos:\n",
    "                current = current.next\n",
    "                c +=1\n",
    "            return current \n",
    "        else:\n",
    "            return None\n",
    "        \n",
    "    def insert(self, new_element, pos):\n",
    "        #insert a new_element at a given position (pos)\n",
    "        current = self.head\n",
    "        c=1; # start a counter\n",
    "        if pos ==1: \n",
    "            new_element.next=current\n",
    "            self.head = new_element\n",
    "        else:\n",
    "            while c < pos-1:\n",
    "                current = current.next\n",
    "                c +=1;\n",
    "            new_element.next= current.next\n",
    "            current.next=new_element\n",
    "        \n",
    "    def delete(self, val):\n",
    "        #Delete the first node with a given value (val)\n",
    "        current = self.head\n",
    "        prev = None;\n",
    "        while current and current.value !=val:\n",
    "            prev = current\n",
    "            current.next = current\n",
    "        if current is not None:\n",
    "            if current == self.head:\n",
    "                self.head = self.head.next\n",
    "            else:\n",
    "                prev.next=current.next\n",
    "                "
   ]
  },
  {
   "cell_type": "markdown",
   "metadata": {},
   "source": [
    "Let's define an element of a linked list."
   ]
  },
  {
   "cell_type": "code",
   "execution_count": 25,
   "metadata": {},
   "outputs": [],
   "source": [
    "class Element(object):\n",
    "    def __init__(self, value):\n",
    "        self.value = value\n",
    "        self.next = None"
   ]
  },
  {
   "cell_type": "code",
   "execution_count": 26,
   "metadata": {},
   "outputs": [],
   "source": [
    "e1= Element(11)\n",
    "e2= Element(22)\n",
    "e3= Element(33)\n",
    "e4= Element(44)"
   ]
  },
  {
   "cell_type": "code",
   "execution_count": 27,
   "metadata": {},
   "outputs": [],
   "source": [
    "ll1=LinkedList(e1)\n",
    "ll1.append(e2)\n",
    "ll1.append(e3)\n",
    "ll1.append(e4)"
   ]
  },
  {
   "cell_type": "code",
   "execution_count": 28,
   "metadata": {},
   "outputs": [
    {
     "data": {
      "text/plain": [
       "44"
      ]
     },
     "execution_count": 28,
     "metadata": {},
     "output_type": "execute_result"
    }
   ],
   "source": [
    "ll1.head.next.next.next.value"
   ]
  },
  {
   "cell_type": "code",
   "execution_count": 29,
   "metadata": {},
   "outputs": [],
   "source": [
    "e_new=Element(123)\n",
    "ll1.insert(e_new, 2)"
   ]
  },
  {
   "cell_type": "code",
   "execution_count": 30,
   "metadata": {},
   "outputs": [
    {
     "data": {
      "text/plain": [
       "33"
      ]
     },
     "execution_count": 30,
     "metadata": {},
     "output_type": "execute_result"
    }
   ],
   "source": [
    "ll1.head.next.next.next.value"
   ]
  },
  {
   "cell_type": "code",
   "execution_count": 32,
   "metadata": {},
   "outputs": [
    {
     "data": {
      "text/plain": [
       "123"
      ]
     },
     "execution_count": 32,
     "metadata": {},
     "output_type": "execute_result"
    }
   ],
   "source": [
    "ll1.get_element(2).value"
   ]
  },
  {
   "cell_type": "markdown",
   "metadata": {},
   "source": [
    "Now creat a linked list with 100 random numbers."
   ]
  },
  {
   "cell_type": "code",
   "execution_count": 65,
   "metadata": {},
   "outputs": [
    {
     "name": "stdout",
     "output_type": "stream",
     "text": [
      "0.006230255204589863\n"
     ]
    }
   ],
   "source": [
    "import numpy as np\n",
    "ll_rand=LinkedList()\n",
    "\n",
    "np.random.seed(4)\n",
    "\n",
    "for i in range(100):\n",
    "    ele=Element(np.random.rand() )\n",
    "    ll_rand.append(ele)\n",
    "\n",
    "print (ll_rand.get_element(8).value)"
   ]
  },
  {
   "cell_type": "markdown",
   "metadata": {},
   "source": [
    "# Tree"
   ]
  },
  {
   "cell_type": "code",
   "execution_count": 69,
   "metadata": {},
   "outputs": [],
   "source": [
    "class BinaryTree(object):\n",
    "    \n",
    "    def __init__(self, root):\n",
    "        self.root = Node(root)\n",
    "        \n",
    "    def preorder_search(self, start, find_val):\n",
    "        if start:\n",
    "            print (start.value)\n",
    "            if start.value == find_val:\n",
    "                return True\n",
    "            else:\n",
    "                return self.preorder_search(start.left, find_val) or self.preorder_search(start.right, find_val)\n",
    "        return False\n",
    "\n",
    "    def search(self, val):\n",
    "        return self.preorder_search(self.root, val)\n"
   ]
  },
  {
   "cell_type": "code",
   "execution_count": 70,
   "metadata": {},
   "outputs": [],
   "source": [
    "class Node(object):\n",
    "    def __init__(self, val):\n",
    "        self.value=val\n",
    "        self.left=None\n",
    "        self.roght=None"
   ]
  },
  {
   "cell_type": "code",
   "execution_count": 71,
   "metadata": {},
   "outputs": [],
   "source": [
    "T=BinaryTree(1)\n",
    "T.root.left=Node(2)\n",
    "T.root.right=Node(3)\n",
    "T.root.left.left=Node(4)\n",
    "T.root.left.right=Node(5)\n",
    "T.root.right.left=Node(6)\n",
    "T.root.right.right=Node(7)\n",
    "\n"
   ]
  },
  {
   "cell_type": "code",
   "execution_count": 73,
   "metadata": {},
   "outputs": [
    {
     "name": "stdout",
     "output_type": "stream",
     "text": [
      "1\n",
      "2\n",
      "4\n",
      "True\n"
     ]
    }
   ],
   "source": [
    "print (T.search(4))"
   ]
  },
  {
   "cell_type": "code",
   "execution_count": 76,
   "metadata": {},
   "outputs": [],
   "source": [
    "import pylab as plt\n",
    "import networkx as nx\n",
    "import seaborn as sns"
   ]
  },
  {
   "cell_type": "code",
   "execution_count": 85,
   "metadata": {},
   "outputs": [
    {
     "data": {
      "image/png": "[encoded data removed]",
      "text/plain": [
       "<Figure size 576x576 with 1 Axes>"
      ]
     },
     "metadata": {},
     "output_type": "display_data"
    }
   ],
   "source": [
    "sns.set()\n",
    "G = nx.balanced_tree(r=2, h=4) # r =2 means Binary and h represents the height\n",
    "plt.figure(figsize=(8,8))\n",
    "nx.draw(G, node_size = 500,node_color = 'lightblue', with_labels =True)"
   ]
  },
  {
   "cell_type": "markdown",
   "metadata": {},
   "source": [
    "### Graph\n",
    "\n",
    "Here is a nice documentation for <a href=https://www.geeksforgeeks.org/graph-and-its-representations/ > Graph</a>. \n",
    "\n",
    "A Graph is a non-linear data structure consisting of nodes and edges.  \n",
    "\n",
    "* A finite set of vertices also called as nodes.\n",
    "* A finite set of ordered pair of the form (u, v) called as edge. The pair is ordered because (u, v) is not same as (v, u) in case of a directed graph(di-graph). The pair of the form (u, v) indicates that there is an edge from vertex u to vertex v. The edges may contain weight/value/cost."
   ]
  },
  {
   "cell_type": "code",
   "execution_count": null,
   "metadata": {},
   "outputs": [],
   "source": []
  }
 ],
 "metadata": {
  "kernelspec": {
   "display_name": "Python 3",
   "language": "python",
   "name": "python3"
  },
  "language_info": {
   "codemirror_mode": {
    "name": "ipython",
    "version": 3
   },
   "file_extension": ".py",
   "mimetype": "text/x-python",
   "name": "python",
   "nbconvert_exporter": "python",
   "pygments_lexer": "ipython3",
   "version": "3.7.5"
  }
 },
 "nbformat": 4,
 "nbformat_minor": 2
}
