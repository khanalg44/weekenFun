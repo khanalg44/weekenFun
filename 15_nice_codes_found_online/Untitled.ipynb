{
 "cells": [
  {
   "cell_type": "code",
   "execution_count": null,
   "id": "b634569d",
   "metadata": {},
   "outputs": [],
   "source": []
  },
  {
   "cell_type": "code",
   "execution_count": 1,
   "id": "7951e7db",
   "metadata": {},
   "outputs": [],
   "source": [
    "import pandas as pd\n",
    "import numpy as np\n",
    "import matplotlib as mpl\n",
    "from matplotlib import pyplot as plt\n",
    "from matplotlib import animation\n",
    "\n",
    "from numpy import sin, cos, tan, pi"
   ]
  },
  {
   "cell_type": "code",
   "execution_count": 2,
   "id": "dd75b1f7",
   "metadata": {},
   "outputs": [],
   "source": [
    "clr1 = 'dimgray'\n",
    "params={\n",
    "    'axes.spines.left': False,\n",
    "    'axes.spines.right': False,\n",
    "    'axes.spines.top' : False,\n",
    "    'axes.spines.bottom' : False,\n",
    "    'axes.labelcolor' : clr1,\n",
    "    'axes.labelsize': 'medium',\n",
    "    'axes.titlecolor': clr1,\n",
    "    'xtick.color' : clr1,\n",
    "    'ytick.color' : clr1,\n",
    "    'lines.linewidth' : 2,\n",
    "    'font.size' : 20, \n",
    "    'legend.framealpha': 0.5,\n",
    "    'text.color' : clr1}\n",
    "\n",
    "for (k,v) in params.items():\n",
    "    mpl.rcParams[k] = v\n",
    "\n",
    "plt.style.use('fast')#'seaborn-bright')\n",
    "\n",
    "CB91_Blue = '#2CBDFE'\n",
    "CB91_Green = '#47DBCD'\n",
    "CB91_Pink = '#F3A0F2'\n",
    "CB91_Purple = '#9D2EC5'\n",
    "CB91_Violet = '#661D98'\n",
    "CB91_Amber = '#F5B14C'\n",
    "\n",
    "color_list = [CB91_Blue, CB91_Amber, CB91_Pink, CB91_Green,\n",
    "              CB91_Purple, CB91_Violet]\n",
    "plt.rcParams['axes.prop_cycle'] = plt.cycler(color=color_list)"
   ]
  },
  {
   "cell_type": "code",
   "execution_count": 8,
   "id": "d4224ab5",
   "metadata": {},
   "outputs": [
    {
     "data": {
      "text/plain": [
       "[<matplotlib.lines.Line2D at 0x1149bb610>]"
      ]
     },
     "execution_count": 8,
     "metadata": {},
     "output_type": "execute_result"
    },
    {
     "data": {
      "image/png": "[encoded data removed]",
      "text/plain": [
       "<Figure size 432x288 with 1 Axes>"
      ]
     },
     "metadata": {
      "needs_background": "light"
     },
     "output_type": "display_data"
    }
   ],
   "source": [
    "x0, x1 = -100, 100\n",
    "npts = 100000\n",
    "\n",
    "xx = np.linspace(x0, x1, npts)\n",
    "yy = xx\n",
    "plt.plot(xx, yy)"
   ]
  },
  {
   "cell_type": "code",
   "execution_count": 9,
   "id": "2fc8d8bd",
   "metadata": {},
   "outputs": [],
   "source": [
    "ix = int(.4*npts)\n",
    "jx = int(.6*npts)"
   ]
  },
  {
   "cell_type": "code",
   "execution_count": 16,
   "id": "96cb20f7",
   "metadata": {},
   "outputs": [
    {
     "data": {
      "text/plain": [
       "(40000, 60000)"
      ]
     },
     "execution_count": 16,
     "metadata": {},
     "output_type": "execute_result"
    }
   ],
   "source": [
    "ix, jx"
   ]
  },
  {
   "cell_type": "code",
   "execution_count": 17,
   "id": "b1883660",
   "metadata": {},
   "outputs": [
    {
     "data": {
      "text/plain": [
       "array([ 112.46357038,  115.15885231,  117.83499113, ..., -117.83499113,\n",
       "       -115.15885231, -112.46357038])"
      ]
     },
     "execution_count": 17,
     "metadata": {},
     "output_type": "execute_result"
    }
   ],
   "source": [
    "xx[ix:jx]"
   ]
  },
  {
   "cell_type": "code",
   "execution_count": 18,
   "id": "c277a336",
   "metadata": {},
   "outputs": [
    {
     "data": {
      "text/plain": [
       "array([ 112.46357038,  115.15885231,  117.83499113, ..., -117.83499113,\n",
       "       -115.15885231, -112.46357038])"
      ]
     },
     "execution_count": 18,
     "metadata": {},
     "output_type": "execute_result"
    }
   ],
   "source": [
    "yy[ix:jx]"
   ]
  },
  {
   "cell_type": "code",
   "execution_count": 22,
   "id": "7b46da44",
   "metadata": {},
   "outputs": [],
   "source": [
    "yy[ix:jx] = 1000*sin(xx[ix:jx])"
   ]
  },
  {
   "cell_type": "code",
   "execution_count": 24,
   "id": "e391ae0c",
   "metadata": {},
   "outputs": [
    {
     "data": {
      "text/plain": [
       "((100000,), (100000,))"
      ]
     },
     "execution_count": 24,
     "metadata": {},
     "output_type": "execute_result"
    }
   ],
   "source": [
    "xx.shape, yy.shape"
   ]
  },
  {
   "cell_type": "code",
   "execution_count": 26,
   "id": "5924bbc0",
   "metadata": {},
   "outputs": [
    {
     "data": {
      "text/plain": [
       "array([-592.18291607,  881.99356718, -999.68081595, ...,  999.68081595,\n",
       "       -881.99356717,  592.18291606])"
      ]
     },
     "execution_count": 26,
     "metadata": {},
     "output_type": "execute_result"
    }
   ],
   "source": [
    "y2 = yy.copy()\n",
    "y2[ix:jx]"
   ]
  },
  {
   "cell_type": "code",
   "execution_count": null,
   "id": "1f3c0c18",
   "metadata": {},
   "outputs": [],
   "source": [
    "# x1 = x[int(.4*npts):int(.6*npts)]\n",
    "# y1 = 20*sin(x1)\n",
    "# yy = y.copy()\n",
    "# #yy[300:700] = y1\n"
   ]
  },
  {
   "cell_type": "code",
   "execution_count": 15,
   "id": "4296aefa",
   "metadata": {},
   "outputs": [
    {
     "data": {
      "text/plain": [
       "0"
      ]
     },
     "execution_count": 15,
     "metadata": {},
     "output_type": "execute_result"
    }
   ],
   "source": [
    "(xx!=yy).sum()"
   ]
  },
  {
   "cell_type": "code",
   "execution_count": 28,
   "id": "51f0012e",
   "metadata": {},
   "outputs": [
    {
     "data": {
      "text/plain": [
       "(-200.0, 200.0)"
      ]
     },
     "execution_count": 28,
     "metadata": {},
     "output_type": "execute_result"
    },
    {
     "data": {
      "image/png": "[encoded data removed]",
      "text/plain": [
       "<Figure size 504x504 with 1 Axes>"
      ]
     },
     "metadata": {
      "needs_background": "light"
     },
     "output_type": "display_data"
    }
   ],
   "source": [
    "fig, ax = plt.subplots(1, 1,  figsize=(7,7));\n",
    "ax.plot(xx, yy)\n",
    "ax.set_xlim([-200, 200])"
   ]
  },
  {
   "cell_type": "code",
   "execution_count": 32,
   "id": "a5d535e8",
   "metadata": {},
   "outputs": [],
   "source": [
    "axin = ax.inset_axes([-100, -100, 200, 200])"
   ]
  },
  {
   "cell_type": "code",
   "execution_count": 33,
   "id": "e1b75c17",
   "metadata": {},
   "outputs": [
    {
     "data": {
      "text/plain": [
       "[<matplotlib.lines.Line2D at 0x114eeeb20>]"
      ]
     },
     "execution_count": 33,
     "metadata": {},
     "output_type": "execute_result"
    }
   ],
   "source": [
    "axin.plot(xx, yy)"
   ]
  },
  {
   "cell_type": "code",
   "execution_count": 34,
   "id": "40ca9485",
   "metadata": {},
   "outputs": [
    {
     "data": {
      "text/plain": [
       "(<matplotlib.patches.Rectangle at 0x1148d4d00>,\n",
       " (<matplotlib.patches.ConnectionPatch at 0x1147bf9a0>,\n",
       "  <matplotlib.patches.ConnectionPatch at 0x1147c7250>,\n",
       "  <matplotlib.patches.ConnectionPatch at 0x114c09640>,\n",
       "  <matplotlib.patches.ConnectionPatch at 0x1147c7760>))"
      ]
     },
     "execution_count": 34,
     "metadata": {},
     "output_type": "execute_result"
    }
   ],
   "source": [
    "ax.indicate_inset_zoom(axin)"
   ]
  },
  {
   "cell_type": "code",
   "execution_count": 35,
   "id": "24e75678",
   "metadata": {},
   "outputs": [],
   "source": [
    "plt.show()"
   ]
  },
  {
   "cell_type": "code",
   "execution_count": null,
   "id": "ba8b7ae8",
   "metadata": {},
   "outputs": [],
   "source": []
  }
 ],
 "metadata": {
  "kernelspec": {
   "display_name": "Python 3",
   "language": "python",
   "name": "python3"
  },
  "language_info": {
   "codemirror_mode": {
    "name": "ipython",
    "version": 3
   },
   "file_extension": ".py",
   "mimetype": "text/x-python",
   "name": "python",
   "nbconvert_exporter": "python",
   "pygments_lexer": "ipython3",
   "version": "3.9.10"
  }
 },
 "nbformat": 4,
 "nbformat_minor": 5
}
