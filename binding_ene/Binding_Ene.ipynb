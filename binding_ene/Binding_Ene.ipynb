{
 "cells": [
  {
   "cell_type": "markdown",
   "metadata": {},
   "source": [
    "# Binding Energy\n",
    "12/08/2019\n",
    "Here are the equation and other necessary information to impliment. \n",
    "<img src=\"figs/equations.png\" width=\"800\">"
   ]
  },
  {
   "cell_type": "code",
   "execution_count": 109,
   "metadata": {},
   "outputs": [],
   "source": [
    "import numpy as np\n",
    "import pylab as plt\n",
    "\n",
    "\n",
    "\"\"\"\n",
    "some pre calculations\n",
    "(2*a+1)%2 = 1  if a even\n",
    "(2*a+1)%2 = 0  if a odd\n",
    "\n",
    "(2*z+1)%2 = 1  if z even\n",
    "(2*z+1)%2 = 0  if z odd\n",
    "\"\"\"\n",
    "\n",
    "\n",
    "def get_a5(A,Z):\n",
    "    \n",
    "    if type(A)==int and type(Z)==int:\n",
    "        A=np.array([A]); Z= np.array([Z])\n",
    "    \n",
    "    a5=np.zeros(len(A))\n",
    "    for i in range(len(A)):\n",
    "        if (A[i] %2) ==0:\n",
    "            #print (\"A is even\")\n",
    "            a5[i]=12.0\n",
    "            if (Z[i] %2) != 0:\n",
    "                #print (\"Z is odd\")\n",
    "                a5[i] *=(-1)\n",
    "    return a5\n",
    "    \n",
    "\n",
    "def Binding_ene(A, Z, BE_per_A=False):\n",
    "    a1=15.67; a2= 17.23; a3=0.75; a4=93.2;\n",
    "    \n",
    "    a5=get_a5(A,Z);\n",
    "    B= a1*A - a2*np.power(A, 2./3.) -a3 * Z**2 * np.power(A, -1./3.) \\\n",
    "            -a4 * (A-2*Z)**2/A  + a5 * np.power(A, -1/2)\n",
    "    \n",
    "    if BE_per_A :\n",
    "        res= B/A\n",
    "    else:\n",
    "        res=B\n",
    "\n",
    "    if len(res)==1:\n",
    "        return res[0]\n",
    "    return res\n",
    "\n"
   ]
  },
  {
   "cell_type": "markdown",
   "metadata": {},
   "source": [
    "## Question (a) and (b)"
   ]
  },
  {
   "cell_type": "code",
   "execution_count": 110,
   "metadata": {},
   "outputs": [
    {
     "name": "stdout",
     "output_type": "stream",
     "text": [
      "Binding Ene for A= 58 and Z=28: 493.935607\n",
      "Binding Ene per Nucleon, for A= 58 and Z=28: 8.516131\n"
     ]
    }
   ],
   "source": [
    "A=58; Z=28\n",
    "B = Binding_ene(A,Z)\n",
    "print (\"Binding Ene for A= %i and Z=%i: %f\" %(A, Z, B))\n",
    "\n",
    "BperA=Binding_ene(A, Z, BE_per_A=True)\n",
    "print (\"Binding Ene per Nucleon, for A= %i and Z=%i: %f\" %(A, Z, BperA))\n"
   ]
  },
  {
   "cell_type": "markdown",
   "metadata": {},
   "source": [
    "## Question c"
   ]
  },
  {
   "cell_type": "code",
   "execution_count": 135,
   "metadata": {},
   "outputs": [
    {
     "name": "stdout",
     "output_type": "stream",
     "text": [
      "Most stable atoms with A= 50, Z=24 and BE_per_A = 8.532623\n"
     ]
    }
   ],
   "source": [
    "\n",
    "BE=0.\n",
    "As=0\n",
    "Zs=0\n",
    "for Z in range(10,50):\n",
    "    for A in range(Z, 3*Z+1):\n",
    "        #print (A, Z)\n",
    "        B= Binding_ene(A, Z, BE_per_A=True )\n",
    "        #print (A, Z, B)\n",
    "        if B > BE :\n",
    "            BE=B; As=A;Zs=Z\n",
    "print (\"Most stable atoms with A= %i, Z=%i and BE_per_A = %f\" %(As,Zs, BE) )\n",
    "    "
   ]
  },
  {
   "cell_type": "markdown",
   "metadata": {},
   "source": [
    "## Question D"
   ]
  },
  {
   "cell_type": "code",
   "execution_count": 173,
   "metadata": {},
   "outputs": [
    {
     "data": {
      "image/png": "[encoded data removed]",
      "text/plain": [
       "<Figure size 864x324 with 2 Axes>"
      ]
     },
     "metadata": {
      "needs_background": "light"
     },
     "output_type": "display_data"
    }
   ],
   "source": [
    "BE_L=[]; \n",
    "A_L=[]\n",
    "Z_L=range(1,100);\n",
    "for Z in Z_L:\n",
    "    BE_Z=0; A_Z=0\n",
    "    for A in range(Z, 3*Z+1):\n",
    "        be=Binding_ene(A, Z, BE_per_A=True)\n",
    "        if be>BE_Z:\n",
    "            BE_Z = be; A_Z=A\n",
    "    BE_L.append(BE_Z)\n",
    "    A_L.append(A_Z)\n",
    "\n",
    "#print (len(A_L), len(BE_L))\n",
    "#print (BE_L, A_L)\n",
    "\n",
    "plt.figure(figsize=(12,4.5))\n",
    "plt.subplot(121)\n",
    "plt.plot(A_L, BE_L, label='BE/A')\n",
    "plt.xlabel('A', fontsize=18)\n",
    "plt.legend(loc='lower right', fontsize=20, frameon=False)\n",
    "plt.xlim([0,100]);\n",
    "\n",
    "plt.subplot(122)\n",
    "plt.plot(range(1,100), BE_L, label='BE/A')\n",
    "plt.xlabel('Z', fontsize=18)\n",
    "plt.legend(loc='lower right', fontsize=20, frameon=False)\n",
    "plt.xlim([0,100]);\n",
    "\n",
    "plt.savefig('figs/BE_A.pdf')\n"
   ]
  },
  {
   "cell_type": "code",
   "execution_count": 175,
   "metadata": {},
   "outputs": [
    {
     "name": "stdout",
     "output_type": "stream",
     "text": [
      "8.532622751365931 8.51427985673783 8.509541272617627\n",
      "50\n",
      "24\n"
     ]
    }
   ],
   "source": [
    "indx=np.argmax(BE_L)\n",
    "\n",
    "print (BE_L[indx], BE_L[indx-1], BE_L[indx+1])\n",
    "print (A_L[indx])\n",
    "print (Z_L[indx])\n"
   ]
  },
  {
   "cell_type": "code",
   "execution_count": null,
   "metadata": {},
   "outputs": [],
   "source": []
  },
  {
   "cell_type": "code",
   "execution_count": null,
   "metadata": {},
   "outputs": [],
   "source": []
  }
 ],
 "metadata": {
  "kernelspec": {
   "display_name": "Python 3",
   "language": "python",
   "name": "python3"
  },
  "language_info": {
   "codemirror_mode": {
    "name": "ipython",
    "version": 3
   },
   "file_extension": ".py",
   "mimetype": "text/x-python",
   "name": "python",
   "nbconvert_exporter": "python",
   "pygments_lexer": "ipython3",
   "version": "3.7.5"
  }
 },
 "nbformat": 4,
 "nbformat_minor": 2
}
